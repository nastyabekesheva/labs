{
  "nbformat": 4,
  "nbformat_minor": 0,
  "metadata": {
    "colab": {
      "provenance": [],
      "authorship_tag": "ABX9TyNRVdgRfSCJ15zneaHdkitL",
      "include_colab_link": true
    },
    "kernelspec": {
      "name": "python3",
      "display_name": "Python 3"
    },
    "language_info": {
      "name": "python"
    }
  },
  "cells": [
    {
      "cell_type": "markdown",
      "metadata": {
        "id": "view-in-github",
        "colab_type": "text"
      },
      "source": [
        "<a href=\"https://colab.research.google.com/github/nastyabekesheva/labs/blob/master/Math/Physics/cw.ipynb\" target=\"_parent\"><img src=\"https://colab.research.google.com/assets/colab-badge.svg\" alt=\"Open In Colab\"/></a>"
      ]
    },
    {
      "cell_type": "code",
      "source": [
        "import numpy as np\n",
        "import matplotlib.pyplot as plt\n",
        "import seaborn as sns\n",
        "from scipy.interpolate import make_interp_spline, BSpline\n",
        "import pandas as pd"
      ],
      "metadata": {
        "id": "SeKsVfDSFlvz"
      },
      "execution_count": null,
      "outputs": []
    },
    {
      "cell_type": "code",
      "execution_count": null,
      "metadata": {
        "colab": {
          "base_uri": "https://localhost:8080/"
        },
        "id": "HQPQ8F-b8kYy",
        "outputId": "51cd4f61-5c41-42b2-91a5-89ed7d73724f"
      },
      "outputs": [
        {
          "output_type": "stream",
          "name": "stdout",
          "text": [
            "6.875000000000002e-10\n"
          ]
        },
        {
          "output_type": "stream",
          "name": "stderr",
          "text": [
            "/usr/local/lib/python3.7/dist-packages/ipykernel_launcher.py:2: RuntimeWarning: divide by zero encountered in true_divide\n",
            "  \n"
          ]
        }
      ],
      "source": [
        "\n",
        "R = np.array([float(i/10) for i in range(0, 21)])\n",
        "rho = np.divide(0.1, R)\n",
        "E = np.array([])\n",
        "\n",
        "for i in range(len(R)):\n",
        "  if R[i] < 0.05:\n",
        "    E = np.append(E, 0)\n",
        "  elif  0.05 <= R[i] <= 0.1:\n",
        "    e = (50 * pow(10, -9) * 0.1 * (pow(R[i], 2) - pow(0.05, 2))) / (2 * pow(R[i], 2))\n",
        "    E = np.append(E, e)\n",
        "  else:\n",
        "    e = (50 * pow(10, -9) * 0.1 * (pow(0.1, 2) - pow(0.05, 2))) / (2 * pow(R[i], 2))\n",
        "    E = np.append(E, e)\n",
        "\n",
        "phi = np.array([])\n",
        "\n",
        "for i in range(len(R)):\n",
        "  if R[i] < 0.05:\n",
        "    phi = np.append(phi, 0)\n",
        "  elif  0.05 <= R[i] <= 0.1: \n",
        "    print(float((50 * pow(10, -9) * 0.1 / 2) * ((3 * pow(R[i], 2) - pow(0.05, 2)) / R[i])))\n",
        "    p = -(50 * pow(10, -9) * 0.1 / 2) * ((3 * pow(R[i], 2) - pow(0.05, 2)) / R[i]) - 0.2\n",
        "    phi = np.append(phi, p)\n",
        "  else:\n",
        "    p = -(50 * pow(10, -9) * 0.1 / 2) * ((pow(0.1, 2) - pow(0.05, 2)) / R[i]) - 0.2\n",
        "    phi = np.append(phi, p)"
      ]
    },
    {
      "cell_type": "code",
      "source": [
        "E"
      ],
      "metadata": {
        "colab": {
          "base_uri": "https://localhost:8080/"
        },
        "id": "4K0bDo9JFpkP",
        "outputId": "b9f64b11-4d34-4d7f-f35a-c070a4b292f2"
      },
      "execution_count": null,
      "outputs": [
        {
          "output_type": "execute_result",
          "data": {
            "text/plain": [
              "array([0.00000000e+00, 1.87500000e-09, 4.68750000e-10, 2.08333333e-10,\n",
              "       1.17187500e-10, 7.50000000e-11, 5.20833333e-11, 3.82653061e-11,\n",
              "       2.92968750e-11, 2.31481481e-11, 1.87500000e-11, 1.54958678e-11,\n",
              "       1.30208333e-11, 1.10946746e-11, 9.56632653e-12, 8.33333333e-12,\n",
              "       7.32421875e-12, 6.48788927e-12, 5.78703704e-12, 5.19390582e-12,\n",
              "       4.68750000e-12])"
            ]
          },
          "metadata": {},
          "execution_count": 89
        }
      ]
    },
    {
      "cell_type": "code",
      "source": [
        "\n",
        "xnew_b = np.linspace(R[1:].min(), R[1:].max(), 200) \n",
        "spl_b = make_interp_spline(R[1:], rho[1:], k=3)\n",
        "y_smooth_b = spl_b(xnew_b)\n",
        "\n",
        "\n",
        "xnew_a = np.linspace(R.min(), R.max(), 200) \n",
        "spl_a = make_interp_spline(R, E, k=3)\n",
        "y_smooth_a = spl_a(xnew_a)\n",
        "\n",
        "xnew_ps = np.linspace(R.min(), R.max(), 200) \n",
        "spl_ps = make_interp_spline(R, phi, k=3)\n",
        "y_smooth_ps = spl_ps(xnew_ps)"
      ],
      "metadata": {
        "id": "2ZX2q_cC8_lN"
      },
      "execution_count": null,
      "outputs": []
    },
    {
      "cell_type": "code",
      "source": [
        "plt.plot(xnew_b, y_smooth_b, 'r')\n",
        "plt.scatter(R[1:], rho[1:])\n",
        "plt.show()"
      ],
      "metadata": {
        "colab": {
          "base_uri": "https://localhost:8080/",
          "height": 265
        },
        "id": "ZYgxxNZ2F6Fl",
        "outputId": "dbcc88c1-e2c4-46fd-b836-abcca15d1c3f"
      },
      "execution_count": null,
      "outputs": [
        {
          "output_type": "display_data",
          "data": {
            "text/plain": [
              "<Figure size 432x288 with 1 Axes>"
            ],
            "image/png": "[encoded data removed]"
          },
          "metadata": {
            "needs_background": "light"
          }
        }
      ]
    },
    {
      "cell_type": "code",
      "source": [
        "plt.plot(xnew_a, y_smooth_a, 'g')\n",
        "plt.scatter(R, E)\n",
        "plt.show()"
      ],
      "metadata": {
        "colab": {
          "base_uri": "https://localhost:8080/",
          "height": 276
        },
        "id": "dy3tnGMJF7tv",
        "outputId": "b9dcb904-1578-448f-8e1c-0542cd07a524"
      },
      "execution_count": null,
      "outputs": [
        {
          "output_type": "display_data",
          "data": {
            "text/plain": [
              "<Figure size 432x288 with 1 Axes>"
            ],
            "image/png": "[encoded data removed]"
          },
          "metadata": {
            "needs_background": "light"
          }
        }
      ]
    },
    {
      "cell_type": "code",
      "source": [
        "plt.plot(xnew_ps, y_smooth_ps, 'b')\n",
        "plt.scatter(R, phi)\n",
        "plt.show()"
      ],
      "metadata": {
        "colab": {
          "base_uri": "https://localhost:8080/",
          "height": 265
        },
        "id": "I39AT9P-F9tX",
        "outputId": "5377f5b2-d92f-4851-c3d5-518e5170278f"
      },
      "execution_count": null,
      "outputs": [
        {
          "output_type": "display_data",
          "data": {
            "text/plain": [
              "<Figure size 432x288 with 1 Axes>"
            ],
            "image/png": "[encoded data removed]"
          },
          "metadata": {
            "needs_background": "light"
          }
        }
      ]
    },
    {
      "cell_type": "code",
      "source": [
        "df1 = pd.DataFrame.from_dict({'$r$':R, '$\\rho$':rho, '$E$':E, '$\\varphi$':phi})\n",
        "df1 = df1.round(4)\n",
        "df1"
      ],
      "metadata": {
        "colab": {
          "base_uri": "https://localhost:8080/",
          "height": 700
        },
        "id": "I8eNVxCkIHFs",
        "outputId": "dceabdde-1924-4afd-d44e-791918d4fb6b"
      },
      "execution_count": null,
      "outputs": [
        {
          "output_type": "execute_result",
          "data": {
            "text/plain": [
              "    $r$  $\\rho$  $E$  $\n",
              "arphi$\n",
              "0   0.0     inf  0.0       0.0\n",
              "1   0.1  1.0000  0.0      -0.2\n",
              "2   0.2  0.5000  0.0      -0.2\n",
              "3   0.3  0.3333  0.0      -0.2\n",
              "4   0.4  0.2500  0.0      -0.2\n",
              "5   0.5  0.2000  0.0      -0.2\n",
              "6   0.6  0.1667  0.0      -0.2\n",
              "7   0.7  0.1429  0.0      -0.2\n",
              "8   0.8  0.1250  0.0      -0.2\n",
              "9   0.9  0.1111  0.0      -0.2\n",
              "10  1.0  0.1000  0.0      -0.2\n",
              "11  1.1  0.0909  0.0      -0.2\n",
              "12  1.2  0.0833  0.0      -0.2\n",
              "13  1.3  0.0769  0.0      -0.2\n",
              "14  1.4  0.0714  0.0      -0.2\n",
              "15  1.5  0.0667  0.0      -0.2\n",
              "16  1.6  0.0625  0.0      -0.2\n",
              "17  1.7  0.0588  0.0      -0.2\n",
              "18  1.8  0.0556  0.0      -0.2\n",
              "19  1.9  0.0526  0.0      -0.2\n",
              "20  2.0  0.0500  0.0      -0.2"
            ],
            "text/html": [
              "\n",
              "  <div id=\"df-e8d010b2-7132-4071-b8da-8e0a00ccc73f\">\n",
              "    <div class=\"colab-df-container\">\n",
              "      <div>\n",
              "<style scoped>\n",
              "    .dataframe tbody tr th:only-of-type {\n",
              "        vertical-align: middle;\n",
              "    }\n",
              "\n",
              "    .dataframe tbody tr th {\n",
              "        vertical-align: top;\n",
              "    }\n",
              "\n",
              "    .dataframe thead th {\n",
              "        text-align: right;\n",
              "    }\n",
              "</style>\n",
              "<table border=\"1\" class=\"dataframe\">\n",
              "  <thead>\n",
              "    <tr style=\"text-align: right;\">\n",
              "      <th></th>\n",
              "      <th>$r$</th>\n",
              "      <th>$\\rho$</th>\n",
              "      <th>$E$</th>\n",
              "      <th>$\u000barphi$</th>\n",
              "    </tr>\n",
              "  </thead>\n",
              "  <tbody>\n",
              "    <tr>\n",
              "      <th>0</th>\n",
              "      <td>0.0</td>\n",
              "      <td>inf</td>\n",
              "      <td>0.0</td>\n",
              "      <td>0.0</td>\n",
              "    </tr>\n",
              "    <tr>\n",
              "      <th>1</th>\n",
              "      <td>0.1</td>\n",
              "      <td>1.0000</td>\n",
              "      <td>0.0</td>\n",
              "      <td>-0.2</td>\n",
              "    </tr>\n",
              "    <tr>\n",
              "      <th>2</th>\n",
              "      <td>0.2</td>\n",
              "      <td>0.5000</td>\n",
              "      <td>0.0</td>\n",
              "      <td>-0.2</td>\n",
              "    </tr>\n",
              "    <tr>\n",
              "      <th>3</th>\n",
              "      <td>0.3</td>\n",
              "      <td>0.3333</td>\n",
              "      <td>0.0</td>\n",
              "      <td>-0.2</td>\n",
              "    </tr>\n",
              "    <tr>\n",
              "      <th>4</th>\n",
              "      <td>0.4</td>\n",
              "      <td>0.2500</td>\n",
              "      <td>0.0</td>\n",
              "      <td>-0.2</td>\n",
              "    </tr>\n",
              "    <tr>\n",
              "      <th>5</th>\n",
              "      <td>0.5</td>\n",
              "      <td>0.2000</td>\n",
              "      <td>0.0</td>\n",
              "      <td>-0.2</td>\n",
              "    </tr>\n",
              "    <tr>\n",
              "      <th>6</th>\n",
              "      <td>0.6</td>\n",
              "      <td>0.1667</td>\n",
              "      <td>0.0</td>\n",
              "      <td>-0.2</td>\n",
              "    </tr>\n",
              "    <tr>\n",
              "      <th>7</th>\n",
              "      <td>0.7</td>\n",
              "      <td>0.1429</td>\n",
              "      <td>0.0</td>\n",
              "      <td>-0.2</td>\n",
              "    </tr>\n",
              "    <tr>\n",
              "      <th>8</th>\n",
              "      <td>0.8</td>\n",
              "      <td>0.1250</td>\n",
              "      <td>0.0</td>\n",
              "      <td>-0.2</td>\n",
              "    </tr>\n",
              "    <tr>\n",
              "      <th>9</th>\n",
              "      <td>0.9</td>\n",
              "      <td>0.1111</td>\n",
              "      <td>0.0</td>\n",
              "      <td>-0.2</td>\n",
              "    </tr>\n",
              "    <tr>\n",
              "      <th>10</th>\n",
              "      <td>1.0</td>\n",
              "      <td>0.1000</td>\n",
              "      <td>0.0</td>\n",
              "      <td>-0.2</td>\n",
              "    </tr>\n",
              "    <tr>\n",
              "      <th>11</th>\n",
              "      <td>1.1</td>\n",
              "      <td>0.0909</td>\n",
              "      <td>0.0</td>\n",
              "      <td>-0.2</td>\n",
              "    </tr>\n",
              "    <tr>\n",
              "      <th>12</th>\n",
              "      <td>1.2</td>\n",
              "      <td>0.0833</td>\n",
              "      <td>0.0</td>\n",
              "      <td>-0.2</td>\n",
              "    </tr>\n",
              "    <tr>\n",
              "      <th>13</th>\n",
              "      <td>1.3</td>\n",
              "      <td>0.0769</td>\n",
              "      <td>0.0</td>\n",
              "      <td>-0.2</td>\n",
              "    </tr>\n",
              "    <tr>\n",
              "      <th>14</th>\n",
              "      <td>1.4</td>\n",
              "      <td>0.0714</td>\n",
              "      <td>0.0</td>\n",
              "      <td>-0.2</td>\n",
              "    </tr>\n",
              "    <tr>\n",
              "      <th>15</th>\n",
              "      <td>1.5</td>\n",
              "      <td>0.0667</td>\n",
              "      <td>0.0</td>\n",
              "      <td>-0.2</td>\n",
              "    </tr>\n",
              "    <tr>\n",
              "      <th>16</th>\n",
              "      <td>1.6</td>\n",
              "      <td>0.0625</td>\n",
              "      <td>0.0</td>\n",
              "      <td>-0.2</td>\n",
              "    </tr>\n",
              "    <tr>\n",
              "      <th>17</th>\n",
              "      <td>1.7</td>\n",
              "      <td>0.0588</td>\n",
              "      <td>0.0</td>\n",
              "      <td>-0.2</td>\n",
              "    </tr>\n",
              "    <tr>\n",
              "      <th>18</th>\n",
              "      <td>1.8</td>\n",
              "      <td>0.0556</td>\n",
              "      <td>0.0</td>\n",
              "      <td>-0.2</td>\n",
              "    </tr>\n",
              "    <tr>\n",
              "      <th>19</th>\n",
              "      <td>1.9</td>\n",
              "      <td>0.0526</td>\n",
              "      <td>0.0</td>\n",
              "      <td>-0.2</td>\n",
              "    </tr>\n",
              "    <tr>\n",
              "      <th>20</th>\n",
              "      <td>2.0</td>\n",
              "      <td>0.0500</td>\n",
              "      <td>0.0</td>\n",
              "      <td>-0.2</td>\n",
              "    </tr>\n",
              "  </tbody>\n",
              "</table>\n",
              "</div>\n",
              "      <button class=\"colab-df-convert\" onclick=\"convertToInteractive('df-e8d010b2-7132-4071-b8da-8e0a00ccc73f')\"\n",
              "              title=\"Convert this dataframe to an interactive table.\"\n",
              "              style=\"display:none;\">\n",
              "        \n",
              "  <svg xmlns=\"http://www.w3.org/2000/svg\" height=\"24px\"viewBox=\"0 0 24 24\"\n",
              "       width=\"24px\">\n",
              "    <path d=\"M0 0h24v24H0V0z\" fill=\"none\"/>\n",
              "    <path d=\"M18.56 5.44l.94 2.06.94-2.06 2.06-.94-2.06-.94-.94-2.06-.94 2.06-2.06.94zm-11 1L8.5 8.5l.94-2.06 2.06-.94-2.06-.94L8.5 2.5l-.94 2.06-2.06.94zm10 10l.94 2.06.94-2.06 2.06-.94-2.06-.94-.94-2.06-.94 2.06-2.06.94z\"/><path d=\"M17.41 7.96l-1.37-1.37c-.4-.4-.92-.59-1.43-.59-.52 0-1.04.2-1.43.59L10.3 9.45l-7.72 7.72c-.78.78-.78 2.05 0 2.83L4 21.41c.39.39.9.59 1.41.59.51 0 1.02-.2 1.41-.59l7.78-7.78 2.81-2.81c.8-.78.8-2.07 0-2.86zM5.41 20L4 18.59l7.72-7.72 1.47 1.35L5.41 20z\"/>\n",
              "  </svg>\n",
              "      </button>\n",
              "      \n",
              "  <style>\n",
              "    .colab-df-container {\n",
              "      display:flex;\n",
              "      flex-wrap:wrap;\n",
              "      gap: 12px;\n",
              "    }\n",
              "\n",
              "    .colab-df-convert {\n",
              "      background-color: #E8F0FE;\n",
              "      border: none;\n",
              "      border-radius: 50%;\n",
              "      cursor: pointer;\n",
              "      display: none;\n",
              "      fill: #1967D2;\n",
              "      height: 32px;\n",
              "      padding: 0 0 0 0;\n",
              "      width: 32px;\n",
              "    }\n",
              "\n",
              "    .colab-df-convert:hover {\n",
              "      background-color: #E2EBFA;\n",
              "      box-shadow: 0px 1px 2px rgba(60, 64, 67, 0.3), 0px 1px 3px 1px rgba(60, 64, 67, 0.15);\n",
              "      fill: #174EA6;\n",
              "    }\n",
              "\n",
              "    [theme=dark] .colab-df-convert {\n",
              "      background-color: #3B4455;\n",
              "      fill: #D2E3FC;\n",
              "    }\n",
              "\n",
              "    [theme=dark] .colab-df-convert:hover {\n",
              "      background-color: #434B5C;\n",
              "      box-shadow: 0px 1px 3px 1px rgba(0, 0, 0, 0.15);\n",
              "      filter: drop-shadow(0px 1px 2px rgba(0, 0, 0, 0.3));\n",
              "      fill: #FFFFFF;\n",
              "    }\n",
              "  </style>\n",
              "\n",
              "      <script>\n",
              "        const buttonEl =\n",
              "          document.querySelector('#df-e8d010b2-7132-4071-b8da-8e0a00ccc73f button.colab-df-convert');\n",
              "        buttonEl.style.display =\n",
              "          google.colab.kernel.accessAllowed ? 'block' : 'none';\n",
              "\n",
              "        async function convertToInteractive(key) {\n",
              "          const element = document.querySelector('#df-e8d010b2-7132-4071-b8da-8e0a00ccc73f');\n",
              "          const dataTable =\n",
              "            await google.colab.kernel.invokeFunction('convertToInteractive',\n",
              "                                                     [key], {});\n",
              "          if (!dataTable) return;\n",
              "\n",
              "          const docLinkHtml = 'Like what you see? Visit the ' +\n",
              "            '<a target=\"_blank\" href=https://colab.research.google.com/notebooks/data_table.ipynb>data table notebook</a>'\n",
              "            + ' to learn more about interactive tables.';\n",
              "          element.innerHTML = '';\n",
              "          dataTable['output_type'] = 'display_data';\n",
              "          await google.colab.output.renderOutput(dataTable, element);\n",
              "          const docLink = document.createElement('div');\n",
              "          docLink.innerHTML = docLinkHtml;\n",
              "          element.appendChild(docLink);\n",
              "        }\n",
              "      </script>\n",
              "    </div>\n",
              "  </div>\n",
              "  "
            ]
          },
          "metadata": {},
          "execution_count": 94
        }
      ]
    }
  ]
}