{
 "cells": [
  {
   "cell_type": "code",
   "execution_count": 109,
   "metadata": {},
   "outputs": [],
   "source": [
    "def deg(n, m):\n",
    "    if m.isdigit() and n.replace('.', '', 1).replace('-', '', 1).isdigit() and int(m) >= 0 and float(n) != 0: # check if m is an integer and n is real \n",
    "        if int(m) == 0:\n",
    "            return 1 # n^0 = 1 \n",
    "        else:\n",
    "            return float(n)*float(deg(n, str(int(m)-1))) # n^m = n*n*...*n } - m times\n",
    "    else:\n",
    "        return 'ValueError'"
   ]
  },
  {
   "cell_type": "code",
   "execution_count": 116,
   "metadata": {},
   "outputs": [
    {
     "name": "stdout",
     "output_type": "stream",
     "text": [
      "2^3 = 8.0\n"
     ]
    }
   ],
   "source": [
    "n = input()\n",
    "m = input()\n",
    "print(f'{n}^{m} = {deg(n, m)}')"
   ]
  },
  {
   "cell_type": "code",
   "execution_count": 2,
   "metadata": {},
   "outputs": [],
   "source": [
    "def gcd(a, b):\n",
    "    if a.isdigit() and b.isdigit(): # check if 'a' and 'b' are integers \n",
    "        a, b = int(a), int(b) # convert\n",
    "        if a < b: # 'a' must be greater than 'b'\n",
    "            a, b = b, a # swap\n",
    "        if b == 0:\n",
    "            return a # gcd of 'a' and 0 is always 'a'\n",
    "        r = int(a%b) # remainder\n",
    "        return gcd(str(b), str(r)) # continue on finding gcd\n",
    "    else:\n",
    "        return 'ValueError'"
   ]
  },
  {
   "cell_type": "code",
   "execution_count": 3,
   "metadata": {},
   "outputs": [
    {
     "name": "stdout",
     "output_type": "stream",
     "text": [
      "gcd(12, 15) = 3\n"
     ]
    }
   ],
   "source": [
    "a = input()\n",
    "b = input()\n",
    "print(f'gcd({a}, {b}) = {gcd(a, b)}')"
   ]
  },
  {
   "cell_type": "code",
   "execution_count": 3,
   "metadata": {},
   "outputs": [],
   "source": [
    "def fib_seq(n):\n",
    "    try:\n",
    "        n = int(n)\n",
    "        if n < 0: # index cannot be lesser than 0\n",
    "            return 'ValueError'\n",
    "        elif n == 0: # f_0 = 0\n",
    "            return n\n",
    "        elif n in [1, 2]: # f_1, f_2 = 1\n",
    "            return 1\n",
    "        else:\n",
    "            return fib_seq(n-1) + fib_seq(n-2) # f_n = f_(n-1) + f_(n-2)\n",
    "    except ValueError as e:\n",
    "        return e"
   ]
  },
  {
   "cell_type": "code",
   "execution_count": 10,
   "metadata": {},
   "outputs": [
    {
     "name": "stdout",
     "output_type": "stream",
     "text": [
      "f_6 = 8\n"
     ]
    }
   ],
   "source": [
    "n = input()\n",
    "print(f'f_{n} = {fib_seq(n)}')"
   ]
  },
  {
   "cell_type": "code",
   "execution_count": 4,
   "metadata": {},
   "outputs": [],
   "source": [
    "def hanoi_towers(start_point, help_ponit, end_point, n):\n",
    "    try:\n",
    "        n = int(n)\n",
    "        if n > 0: # number of disks cannot be lesser than 0\n",
    "            hanoi_towers(start_point, end_point, help_ponit, n-1) # move disk from start point to help point\n",
    "            print(f'Disk {n}: {start_point} -> {end_point}')\n",
    "            hanoi_towers(help_ponit, start_point, end_point, n-1) # move disk from help point to end point\n",
    "    except ValueError as e:\n",
    "        return e\n"
   ]
  },
  {
   "cell_type": "code",
   "execution_count": 5,
   "metadata": {},
   "outputs": [
    {
     "name": "stdout",
     "output_type": "stream",
     "text": [
      "Disk 1: A -> C\n",
      "Disk 2: A -> B\n",
      "Disk 1: C -> B\n",
      "Disk 3: A -> C\n",
      "Disk 1: B -> A\n",
      "Disk 2: B -> C\n",
      "Disk 1: A -> C\n"
     ]
    }
   ],
   "source": [
    "n = input()\n",
    "hanoi_towers('A', 'B', 'C', n)"
   ]
  }
 ],
 "metadata": {
  "kernelspec": {
   "display_name": "Python 3.9.13 ('base')",
   "language": "python",
   "name": "python3"
  },
  "language_info": {
   "codemirror_mode": {
    "name": "ipython",
    "version": 3
   },
   "file_extension": ".py",
   "mimetype": "text/x-python",
   "name": "python",
   "nbconvert_exporter": "python",
   "pygments_lexer": "ipython3",
   "version": "3.9.13"
  },
  "orig_nbformat": 4,
  "vscode": {
   "interpreter": {
    "hash": "38cca0c38332a56087b24af0bc80247f4fced29cb4f7f437d91dc159adec9c4e"
   }
  }
 },
 "nbformat": 4,
 "nbformat_minor": 2
}
